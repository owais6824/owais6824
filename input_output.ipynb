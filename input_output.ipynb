{
  "nbformat": 4,
  "nbformat_minor": 0,
  "metadata": {
    "colab": {
      "provenance": [],
      "authorship_tag": "ABX9TyOenOVG+OvBaz8ZmJvWD5oF",
      "include_colab_link": true
    },
    "kernelspec": {
      "name": "python3",
      "display_name": "Python 3"
    },
    "language_info": {
      "name": "python"
    }
  },
  "cells": [
    {
      "cell_type": "markdown",
      "metadata": {
        "id": "view-in-github",
        "colab_type": "text"
      },
      "source": [
        "<a href=\"https://colab.research.google.com/github/owais6824/owais6824/blob/main/input_output.ipynb\" target=\"_parent\"><img src=\"https://colab.research.google.com/assets/colab-badge.svg\" alt=\"Open In Colab\"/></a>"
      ]
    },
    {
      "cell_type": "markdown",
      "source": [
        "take input from the user and process square formula"
      ],
      "metadata": {
        "id": "S98X1MQTUgki"
      }
    },
    {
      "cell_type": "code",
      "execution_count": 3,
      "metadata": {
        "colab": {
          "base_uri": "https://localhost:8080/"
        },
        "id": "iGZ7RczgRABC",
        "outputId": "e41516eb-b0c0-4209-f269-3b0c9653b99a"
      },
      "outputs": [
        {
          "output_type": "stream",
          "name": "stdout",
          "text": [
            "Enter value 1: 3\n",
            "Enter value 2: 5\n",
            "The output is  64\n"
          ]
        }
      ],
      "source": [
        "# enter first value\n",
        "num1 = int(input(\"Enter value 1: \"))\n",
        "# enter second value\n",
        "num2 = int(input(\"Enter value 2: \"))\n",
        "\n",
        "#formula\n",
        "result = num1**2 + num2**2 + 2*num1*num2\n",
        "\n",
        "# printing output\n",
        "print(\"The output is \", result)\n",
        "\n"
      ]
    }
  ]
}