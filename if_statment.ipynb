{
  "nbformat": 4,
  "nbformat_minor": 0,
  "metadata": {
    "colab": {
      "provenance": [],
      "authorship_tag": "ABX9TyP+LS0v6nFa2MJeWaqAft5i",
      "include_colab_link": true
    },
    "kernelspec": {
      "name": "python3",
      "display_name": "Python 3"
    },
    "language_info": {
      "name": "python"
    }
  },
  "cells": [
    {
      "cell_type": "markdown",
      "metadata": {
        "id": "view-in-github",
        "colab_type": "text"
      },
      "source": [
        "<a href=\"https://colab.research.google.com/github/owais6824/owais6824/blob/main/if_statment.ipynb\" target=\"_parent\"><img src=\"https://colab.research.google.com/assets/colab-badge.svg\" alt=\"Open In Colab\"/></a>"
      ]
    },
    {
      "cell_type": "markdown",
      "source": [
        "**simple calculator with if statement**"
      ],
      "metadata": {
        "id": "GXOlFHnsypXj"
      }
    },
    {
      "cell_type": "code",
      "execution_count": 6,
      "metadata": {
        "colab": {
          "base_uri": "https://localhost:8080/"
        },
        "id": "1ZYAZDPZtd4L",
        "outputId": "39adfebd-0249-48b6-e08f-f06f9e4c3d24"
      },
      "outputs": [
        {
          "output_type": "stream",
          "name": "stdout",
          "text": [
            "Enter the First Value:  45\n",
            "Enter the Second Value:  67\n",
            "Enter operation you want /\n",
            "Result for Division is  0.6716417910447762\n"
          ]
        }
      ],
      "source": [
        "val1 = int(input(\"Enter the First Value:  \"))\n",
        "val2 = int(input(\"Enter the Second Value:  \"))\n",
        "operator = input(\"Enter operation you want \")\n",
        "\n",
        "if operator == \"+\" :\n",
        "  add = val1 + val2\n",
        "  print(\"Result for Addition is \",add)\n",
        "if operator == \"-\" :\n",
        "  subtract = val1 - val2\n",
        "  print(\"Result for Subtraction is \",subtract)\n",
        "if operator == \"*\" :\n",
        "  multiply = val1 * val2\n",
        "  print(\"Result for Multiplication is \",multiply)\n",
        "if operator == \"/\" :\n",
        "  divide = val1 / val2\n",
        "  print(\"Result for Division is \",divide)"
      ]
    },
    {
      "cell_type": "markdown",
      "source": [
        "**Grade calculator with if statement**"
      ],
      "metadata": {
        "id": "w3AmRTWI96w4"
      }
    },
    {
      "cell_type": "code",
      "source": [
        "marks = int(input(\"Enter the marks for grade : \"))\n",
        "if 90 <= marks <= 100 :\n",
        "  print(\"You got A grade\")\n",
        "if 80 <= marks <= 90 :\n",
        "  print(\"You got B grade\")\n",
        "if 70 <= marks <= 80 :\n",
        "  print(\"You got C grade\")\n",
        "if 60 <= marks <= 70 :\n",
        "  print(\"You got D grade\")\n",
        "if 50 <= marks <= 60 :\n",
        "  print(\"You got E grade\")\n",
        "if 0 <= marks <= 50 :\n",
        "  print(\"You are failed🤣😂😂\")"
      ],
      "metadata": {
        "colab": {
          "base_uri": "https://localhost:8080/"
        },
        "id": "vfeTG7B_9s9g",
        "outputId": "7a237281-4d34-4f8f-fe9a-300bde145518"
      },
      "execution_count": 19,
      "outputs": [
        {
          "output_type": "stream",
          "name": "stdout",
          "text": [
            "Enter the marks for grade : 67\n",
            "You got D grade\n"
          ]
        }
      ]
    }
  ]
}