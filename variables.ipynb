{
  "nbformat": 4,
  "nbformat_minor": 0,
  "metadata": {
    "colab": {
      "provenance": [],
      "authorship_tag": "ABX9TyORAHVvB5LD79/fySs1Ugn+",
      "include_colab_link": true
    },
    "kernelspec": {
      "name": "python3",
      "display_name": "Python 3"
    },
    "language_info": {
      "name": "python"
    }
  },
  "cells": [
    {
      "cell_type": "markdown",
      "metadata": {
        "id": "view-in-github",
        "colab_type": "text"
      },
      "source": [
        "<a href=\"https://colab.research.google.com/github/owais6824/owais6824/blob/main/variables.ipynb\" target=\"_parent\"><img src=\"https://colab.research.google.com/assets/colab-badge.svg\" alt=\"Open In Colab\"/></a>"
      ]
    },
    {
      "cell_type": "markdown",
      "source": [
        "declaring a variable in python"
      ],
      "metadata": {
        "id": "ALcLUosl-Mu3"
      }
    },
    {
      "cell_type": "code",
      "execution_count": null,
      "metadata": {
        "colab": {
          "base_uri": "https://localhost:8080/"
        },
        "id": "MX0hDX9d8F6q",
        "outputId": "41a744d9-2e9e-4126-c87c-c855c5291fed"
      },
      "outputs": [
        {
          "output_type": "stream",
          "name": "stdout",
          "text": [
            "12\n"
          ]
        }
      ],
      "source": [
        "num = 12\n",
        "print(num)"
      ]
    },
    {
      "cell_type": "markdown",
      "source": [
        "taking input from user"
      ],
      "metadata": {
        "id": "UK66q3NPAFh9"
      }
    },
    {
      "cell_type": "code",
      "source": [
        "number1 = input(\"Enter number1 : \")\n",
        "number2 = input(\"Enter number2 : \")\n",
        "print(\"The numbers are \"+number1+\" and \"+ number2)"
      ],
      "metadata": {
        "colab": {
          "base_uri": "https://localhost:8080/"
        },
        "id": "xOqAIGkuANYn",
        "outputId": "7f1a15a2-5b30-48b3-8978-b735c53e3b6e"
      },
      "execution_count": null,
      "outputs": [
        {
          "output_type": "stream",
          "name": "stdout",
          "text": [
            "Enter number1 : 12\n",
            "Enter number2 : 23\n",
            "The numbers are 12 and 23\n"
          ]
        }
      ]
    },
    {
      "cell_type": "markdown",
      "source": [
        "**assignment for the variables**"
      ],
      "metadata": {
        "id": "EQhNPMWRBIkP"
      }
    },
    {
      "cell_type": "code",
      "source": [
        "num1 = int(input(\"Enter first value : \"))\n",
        "num2 = int(input(\"Enter second value : \"))\n",
        "add = (num1+num2)\n",
        "print(\"Addition \",add)\n",
        "subtract = (num1-num2)\n",
        "print(\"Subtraction \",subtract)\n",
        "multiply = (num1*num2)\n",
        "print(\"Multiplication \",multiply)\n",
        "divide = (num1/num2)\n",
        "print(\"Division \",divide)"
      ],
      "metadata": {
        "colab": {
          "base_uri": "https://localhost:8080/"
        },
        "id": "-TRNCqj7BSrg",
        "outputId": "cf3bfa3f-12ba-495d-9b01-fa64a696d74a"
      },
      "execution_count": 4,
      "outputs": [
        {
          "output_type": "stream",
          "name": "stdout",
          "text": [
            "Enter first value : 45\n",
            "Enter second value : 5\n",
            "Addition  50\n",
            "Subtraction  40\n",
            "Multiplication  225\n",
            "Division  9.0\n"
          ]
        }
      ]
    }
  ]
}